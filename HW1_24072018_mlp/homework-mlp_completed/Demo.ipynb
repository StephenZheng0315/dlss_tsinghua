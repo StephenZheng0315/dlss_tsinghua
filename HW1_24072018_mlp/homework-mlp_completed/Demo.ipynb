{
 "cells": [
  {
   "cell_type": "code",
   "execution_count": 1,
   "metadata": {
    "scrolled": true
   },
   "outputs": [],
   "source": [
    "import numpy as np\n",
    "import matplotlib.pyplot as plt\n",
    "from tensorflow.examples.tutorials.mnist import input_data\n",
    "from network import Network\n",
    "\n",
    "from builtin import BuiltInFCLayer, BuiltInReLULayer, BuiltInSigmoidLayer, BuiltInSGDwithMomentum\n",
    "\n",
    "from layers import FCLayer, ReLULayer, SigmoidLayer\n",
    "\n",
    "from criterion import SoftmaxCrossEntropy\n",
    "from optimizer import SGD\n",
    "\n",
    "from solver import train, test\n",
    "from plot import plot_loss_and_acc"
   ]
  },
  {
   "cell_type": "code",
   "execution_count": 2,
   "metadata": {},
   "outputs": [],
   "source": [
    "%matplotlib inline"
   ]
  },
  {
   "cell_type": "markdown",
   "metadata": {},
   "source": [
    "### Set Hyperparameters"
   ]
  },
  {
   "cell_type": "code",
   "execution_count": 3,
   "metadata": {},
   "outputs": [],
   "source": [
    "batch_size = 100\n",
    "max_epoch = 20\n",
    "init_std = 0.01\n",
    "\n",
    "learning_rate = 0.001\n",
    "weight_decay = 0.001\n",
    "momentum = 0.9\n",
    "\n",
    "disp_freq = 50"
   ]
  },
  {
   "cell_type": "markdown",
   "metadata": {},
   "source": [
    "### Build model"
   ]
  },
  {
   "cell_type": "code",
   "execution_count": 4,
   "metadata": {},
   "outputs": [],
   "source": [
    "# Set use_builtin to False if you want to try your implements.\n",
    "use_builtin = True\n",
    "\n",
    "if use_builtin:\n",
    "    # These lines create a MLP with one hidden layer\n",
    "    model = Network()\n",
    "    model.add(BuiltInFCLayer(784, 256, init_std))\n",
    "    model.add(BuiltInReLULayer())\n",
    "    model.add(BuiltInFCLayer(256, 10, init_std))\n",
    "else:\n",
    "    model = Network()\n",
    "    model.add(FCLayer(784, 256, init_std))\n",
    "    model.add(ReLULayer())\n",
    "    model.add(FCLayer(256, 10, init_std))\n",
    "\n",
    "# Criterion\n",
    "criterion = SoftmaxCrossEntropy()\n",
    "\n",
    "# Optimizer\n",
    "optimizer = SGD(learning_rate, weight_decay)\n",
    "# optimizer = BuiltInSGDwithMomentum(learning_rate, weight_decay, momentum)"
   ]
  },
  {
   "cell_type": "markdown",
   "metadata": {},
   "source": [
    "### Dataset"
   ]
  },
  {
   "cell_type": "code",
   "execution_count": 5,
   "metadata": {},
   "outputs": [
    {
     "name": "stdout",
     "output_type": "stream",
     "text": [
      "WARNING:tensorflow:From <ipython-input-5-5232d53d045c>:1: read_data_sets (from tensorflow.contrib.learn.python.learn.datasets.mnist) is deprecated and will be removed in a future version.\n",
      "Instructions for updating:\n",
      "Please use alternatives such as official/mnist/dataset.py from tensorflow/models.\n",
      "WARNING:tensorflow:From /home/georgos/anaconda3/envs/py27/lib/python2.7/site-packages/tensorflow/contrib/learn/python/learn/datasets/mnist.py:260: maybe_download (from tensorflow.contrib.learn.python.learn.datasets.base) is deprecated and will be removed in a future version.\n",
      "Instructions for updating:\n",
      "Please write your own downloading logic.\n",
      "WARNING:tensorflow:From /home/georgos/anaconda3/envs/py27/lib/python2.7/site-packages/tensorflow/contrib/learn/python/learn/datasets/mnist.py:262: extract_images (from tensorflow.contrib.learn.python.learn.datasets.mnist) is deprecated and will be removed in a future version.\n",
      "Instructions for updating:\n",
      "Please use tf.data to implement this functionality.\n",
      "Extracting MNIST_data/train-images-idx3-ubyte.gz\n",
      "WARNING:tensorflow:From /home/georgos/anaconda3/envs/py27/lib/python2.7/site-packages/tensorflow/contrib/learn/python/learn/datasets/mnist.py:267: extract_labels (from tensorflow.contrib.learn.python.learn.datasets.mnist) is deprecated and will be removed in a future version.\n",
      "Instructions for updating:\n",
      "Please use tf.data to implement this functionality.\n",
      "Extracting MNIST_data/train-labels-idx1-ubyte.gz\n",
      "WARNING:tensorflow:From /home/georgos/anaconda3/envs/py27/lib/python2.7/site-packages/tensorflow/contrib/learn/python/learn/datasets/mnist.py:110: dense_to_one_hot (from tensorflow.contrib.learn.python.learn.datasets.mnist) is deprecated and will be removed in a future version.\n",
      "Instructions for updating:\n",
      "Please use tf.one_hot on tensors.\n",
      "Extracting MNIST_data/t10k-images-idx3-ubyte.gz\n",
      "Extracting MNIST_data/t10k-labels-idx1-ubyte.gz\n",
      "WARNING:tensorflow:From /home/georgos/anaconda3/envs/py27/lib/python2.7/site-packages/tensorflow/contrib/learn/python/learn/datasets/mnist.py:290: __init__ (from tensorflow.contrib.learn.python.learn.datasets.mnist) is deprecated and will be removed in a future version.\n",
      "Instructions for updating:\n",
      "Please use alternatives such as official/mnist/dataset.py from tensorflow/models.\n"
     ]
    }
   ],
   "source": [
    "mnist = input_data.read_data_sets(\"MNIST_data/\", validation_size=5000, one_hot=True)"
   ]
  },
  {
   "cell_type": "markdown",
   "metadata": {},
   "source": [
    "### Train the network"
   ]
  },
  {
   "cell_type": "code",
   "execution_count": 8,
   "metadata": {
    "scrolled": true
   },
   "outputs": [
    {
     "name": "stdout",
     "output_type": "stream",
     "text": [
      "Epoch [0][20]\t Batch [0][550]\t Training Loss 2.3012\t Accuracy 0.1100\n",
      "Epoch [0][20]\t Batch [50][550]\t Training Loss 2.1644\t Accuracy 0.5329\n",
      "Epoch [0][20]\t Batch [100][550]\t Training Loss 1.7166\t Accuracy 0.6308\n",
      "Epoch [0][20]\t Batch [150][550]\t Training Loss 1.3785\t Accuracy 0.6945\n",
      "Epoch [0][20]\t Batch [200][550]\t Training Loss 1.1654\t Accuracy 0.7369\n",
      "Epoch [0][20]\t Batch [250][550]\t Training Loss 1.0249\t Accuracy 0.7655\n",
      "Epoch [0][20]\t Batch [300][550]\t Training Loss 0.9274\t Accuracy 0.7843\n",
      "Epoch [0][20]\t Batch [350][550]\t Training Loss 0.8524\t Accuracy 0.7995\n",
      "Epoch [0][20]\t Batch [400][550]\t Training Loss 0.7921\t Accuracy 0.8116\n",
      "Epoch [0][20]\t Batch [450][550]\t Training Loss 0.7426\t Accuracy 0.8216\n",
      "Epoch [0][20]\t Batch [500][550]\t Training Loss 0.7030\t Accuracy 0.8299\n",
      "Epoch [0]\t Average training loss 0.6707\t Average training accuracy 0.8361\n",
      "Epoch [0]\t Average validation loss 0.3021\t Average validation accuracy 0.9146\n",
      "\n",
      "Epoch [1][20]\t Batch [0][550]\t Training Loss 0.2269\t Accuracy 0.9400\n",
      "Epoch [1][20]\t Batch [50][550]\t Training Loss 0.3231\t Accuracy 0.9092\n",
      "Epoch [1][20]\t Batch [100][550]\t Training Loss 0.3180\t Accuracy 0.9097\n",
      "Epoch [1][20]\t Batch [150][550]\t Training Loss 0.3146\t Accuracy 0.9116\n",
      "Epoch [1][20]\t Batch [200][550]\t Training Loss 0.3125\t Accuracy 0.9128\n",
      "Epoch [1][20]\t Batch [250][550]\t Training Loss 0.3086\t Accuracy 0.9141\n",
      "Epoch [1][20]\t Batch [300][550]\t Training Loss 0.3052\t Accuracy 0.9142\n",
      "Epoch [1][20]\t Batch [350][550]\t Training Loss 0.3017\t Accuracy 0.9146\n",
      "Epoch [1][20]\t Batch [400][550]\t Training Loss 0.2977\t Accuracy 0.9157\n",
      "Epoch [1][20]\t Batch [450][550]\t Training Loss 0.2938\t Accuracy 0.9168\n",
      "Epoch [1][20]\t Batch [500][550]\t Training Loss 0.2936\t Accuracy 0.9170\n",
      "Epoch [1]\t Average training loss 0.2897\t Average training accuracy 0.9180\n",
      "Epoch [1]\t Average validation loss 0.2383\t Average validation accuracy 0.9342\n",
      "\n",
      "Epoch [2][20]\t Batch [0][550]\t Training Loss 0.2323\t Accuracy 0.9200\n",
      "Epoch [2][20]\t Batch [50][550]\t Training Loss 0.2454\t Accuracy 0.9290\n",
      "Epoch [2][20]\t Batch [100][550]\t Training Loss 0.2491\t Accuracy 0.9263\n",
      "Epoch [2][20]\t Batch [150][550]\t Training Loss 0.2474\t Accuracy 0.9276\n",
      "Epoch [2][20]\t Batch [200][550]\t Training Loss 0.2478\t Accuracy 0.9283\n",
      "Epoch [2][20]\t Batch [250][550]\t Training Loss 0.2458\t Accuracy 0.9293\n",
      "Epoch [2][20]\t Batch [300][550]\t Training Loss 0.2445\t Accuracy 0.9302\n",
      "Epoch [2][20]\t Batch [350][550]\t Training Loss 0.2419\t Accuracy 0.9311\n",
      "Epoch [2][20]\t Batch [400][550]\t Training Loss 0.2412\t Accuracy 0.9313\n",
      "Epoch [2][20]\t Batch [450][550]\t Training Loss 0.2390\t Accuracy 0.9320\n",
      "Epoch [2][20]\t Batch [500][550]\t Training Loss 0.2362\t Accuracy 0.9331\n",
      "Epoch [2]\t Average training loss 0.2329\t Average training accuracy 0.9339\n",
      "Epoch [2]\t Average validation loss 0.1984\t Average validation accuracy 0.9446\n",
      "\n",
      "Epoch [3][20]\t Batch [0][550]\t Training Loss 0.3116\t Accuracy 0.9200\n",
      "Epoch [3][20]\t Batch [50][550]\t Training Loss 0.2148\t Accuracy 0.9388\n",
      "Epoch [3][20]\t Batch [100][550]\t Training Loss 0.2066\t Accuracy 0.9430\n",
      "Epoch [3][20]\t Batch [150][550]\t Training Loss 0.2036\t Accuracy 0.9428\n",
      "Epoch [3][20]\t Batch [200][550]\t Training Loss 0.2000\t Accuracy 0.9437\n",
      "Epoch [3][20]\t Batch [250][550]\t Training Loss 0.1995\t Accuracy 0.9437\n",
      "Epoch [3][20]\t Batch [300][550]\t Training Loss 0.1977\t Accuracy 0.9443\n",
      "Epoch [3][20]\t Batch [350][550]\t Training Loss 0.1967\t Accuracy 0.9447\n",
      "Epoch [3][20]\t Batch [400][550]\t Training Loss 0.1943\t Accuracy 0.9451\n",
      "Epoch [3][20]\t Batch [450][550]\t Training Loss 0.1949\t Accuracy 0.9449\n",
      "Epoch [3][20]\t Batch [500][550]\t Training Loss 0.1942\t Accuracy 0.9450\n",
      "Epoch [3]\t Average training loss 0.1938\t Average training accuracy 0.9451\n",
      "Epoch [3]\t Average validation loss 0.1680\t Average validation accuracy 0.9534\n",
      "\n",
      "Epoch [4][20]\t Batch [0][550]\t Training Loss 0.1506\t Accuracy 0.9600\n",
      "Epoch [4][20]\t Batch [50][550]\t Training Loss 0.1724\t Accuracy 0.9514\n",
      "Epoch [4][20]\t Batch [100][550]\t Training Loss 0.1689\t Accuracy 0.9532\n",
      "Epoch [4][20]\t Batch [150][550]\t Training Loss 0.1665\t Accuracy 0.9528\n",
      "Epoch [4][20]\t Batch [200][550]\t Training Loss 0.1684\t Accuracy 0.9526\n",
      "Epoch [4][20]\t Batch [250][550]\t Training Loss 0.1712\t Accuracy 0.9522\n",
      "Epoch [4][20]\t Batch [300][550]\t Training Loss 0.1692\t Accuracy 0.9531\n",
      "Epoch [4][20]\t Batch [350][550]\t Training Loss 0.1670\t Accuracy 0.9534\n",
      "Epoch [4][20]\t Batch [400][550]\t Training Loss 0.1652\t Accuracy 0.9537\n",
      "Epoch [4][20]\t Batch [450][550]\t Training Loss 0.1643\t Accuracy 0.9540\n",
      "Epoch [4][20]\t Batch [500][550]\t Training Loss 0.1653\t Accuracy 0.9537\n",
      "Epoch [4]\t Average training loss 0.1644\t Average training accuracy 0.9538\n",
      "Epoch [4]\t Average validation loss 0.1479\t Average validation accuracy 0.9612\n",
      "\n",
      "Epoch [5][20]\t Batch [0][550]\t Training Loss 0.1862\t Accuracy 0.9500\n",
      "Epoch [5][20]\t Batch [50][550]\t Training Loss 0.1686\t Accuracy 0.9543\n",
      "Epoch [5][20]\t Batch [100][550]\t Training Loss 0.1559\t Accuracy 0.9573\n",
      "Epoch [5][20]\t Batch [150][550]\t Training Loss 0.1505\t Accuracy 0.9575\n",
      "Epoch [5][20]\t Batch [200][550]\t Training Loss 0.1474\t Accuracy 0.9587\n",
      "Epoch [5][20]\t Batch [250][550]\t Training Loss 0.1469\t Accuracy 0.9586\n",
      "Epoch [5][20]\t Batch [300][550]\t Training Loss 0.1479\t Accuracy 0.9584\n",
      "Epoch [5][20]\t Batch [350][550]\t Training Loss 0.1468\t Accuracy 0.9591\n",
      "Epoch [5][20]\t Batch [400][550]\t Training Loss 0.1463\t Accuracy 0.9590\n",
      "Epoch [5][20]\t Batch [450][550]\t Training Loss 0.1447\t Accuracy 0.9593\n",
      "Epoch [5][20]\t Batch [500][550]\t Training Loss 0.1432\t Accuracy 0.9596\n",
      "Epoch [5]\t Average training loss 0.1427\t Average training accuracy 0.9596\n",
      "Epoch [5]\t Average validation loss 0.1304\t Average validation accuracy 0.9652\n",
      "\n",
      "Epoch [6][20]\t Batch [0][550]\t Training Loss 0.1823\t Accuracy 0.9600\n",
      "Epoch [6][20]\t Batch [50][550]\t Training Loss 0.1405\t Accuracy 0.9625\n",
      "Epoch [6][20]\t Batch [100][550]\t Training Loss 0.1286\t Accuracy 0.9641\n",
      "Epoch [6][20]\t Batch [150][550]\t Training Loss 0.1292\t Accuracy 0.9635\n",
      "Epoch [6][20]\t Batch [200][550]\t Training Loss 0.1267\t Accuracy 0.9646\n",
      "Epoch [6][20]\t Batch [250][550]\t Training Loss 0.1265\t Accuracy 0.9645\n",
      "Epoch [6][20]\t Batch [300][550]\t Training Loss 0.1257\t Accuracy 0.9650\n",
      "Epoch [6][20]\t Batch [350][550]\t Training Loss 0.1259\t Accuracy 0.9647\n",
      "Epoch [6][20]\t Batch [400][550]\t Training Loss 0.1246\t Accuracy 0.9648\n",
      "Epoch [6][20]\t Batch [450][550]\t Training Loss 0.1256\t Accuracy 0.9647\n",
      "Epoch [6][20]\t Batch [500][550]\t Training Loss 0.1258\t Accuracy 0.9649\n",
      "Epoch [6]\t Average training loss 0.1256\t Average training accuracy 0.9647\n",
      "Epoch [6]\t Average validation loss 0.1200\t Average validation accuracy 0.9676\n",
      "\n",
      "Epoch [7][20]\t Batch [0][550]\t Training Loss 0.1634\t Accuracy 0.9500\n",
      "Epoch [7][20]\t Batch [50][550]\t Training Loss 0.1254\t Accuracy 0.9661\n",
      "Epoch [7][20]\t Batch [100][550]\t Training Loss 0.1227\t Accuracy 0.9667\n",
      "Epoch [7][20]\t Batch [150][550]\t Training Loss 0.1174\t Accuracy 0.9678\n",
      "Epoch [7][20]\t Batch [200][550]\t Training Loss 0.1157\t Accuracy 0.9688\n",
      "Epoch [7][20]\t Batch [250][550]\t Training Loss 0.1141\t Accuracy 0.9689\n",
      "Epoch [7][20]\t Batch [300][550]\t Training Loss 0.1135\t Accuracy 0.9688\n",
      "Epoch [7][20]\t Batch [350][550]\t Training Loss 0.1130\t Accuracy 0.9687\n",
      "Epoch [7][20]\t Batch [400][550]\t Training Loss 0.1130\t Accuracy 0.9684\n",
      "Epoch [7][20]\t Batch [450][550]\t Training Loss 0.1128\t Accuracy 0.9684\n",
      "Epoch [7][20]\t Batch [500][550]\t Training Loss 0.1117\t Accuracy 0.9687\n",
      "Epoch [7]\t Average training loss 0.1114\t Average training accuracy 0.9689\n",
      "Epoch [7]\t Average validation loss 0.1089\t Average validation accuracy 0.9710\n",
      "\n",
      "Epoch [8][20]\t Batch [0][550]\t Training Loss 0.1044\t Accuracy 0.9500\n",
      "Epoch [8][20]\t Batch [50][550]\t Training Loss 0.1015\t Accuracy 0.9712\n",
      "Epoch [8][20]\t Batch [100][550]\t Training Loss 0.1035\t Accuracy 0.9723\n",
      "Epoch [8][20]\t Batch [150][550]\t Training Loss 0.1056\t Accuracy 0.9715\n",
      "Epoch [8][20]\t Batch [200][550]\t Training Loss 0.1041\t Accuracy 0.9717\n",
      "Epoch [8][20]\t Batch [250][550]\t Training Loss 0.1017\t Accuracy 0.9720\n",
      "Epoch [8][20]\t Batch [300][550]\t Training Loss 0.0997\t Accuracy 0.9723\n",
      "Epoch [8][20]\t Batch [350][550]\t Training Loss 0.0991\t Accuracy 0.9723\n",
      "Epoch [8][20]\t Batch [400][550]\t Training Loss 0.0993\t Accuracy 0.9724\n",
      "Epoch [8][20]\t Batch [450][550]\t Training Loss 0.0989\t Accuracy 0.9725\n",
      "Epoch [8][20]\t Batch [500][550]\t Training Loss 0.0999\t Accuracy 0.9724\n"
     ]
    },
    {
     "name": "stdout",
     "output_type": "stream",
     "text": [
      "Epoch [8]\t Average training loss 0.1006\t Average training accuracy 0.9723\n",
      "Epoch [8]\t Average validation loss 0.1039\t Average validation accuracy 0.9700\n",
      "\n",
      "Epoch [9][20]\t Batch [0][550]\t Training Loss 0.0554\t Accuracy 0.9800\n",
      "Epoch [9][20]\t Batch [50][550]\t Training Loss 0.0860\t Accuracy 0.9786\n",
      "Epoch [9][20]\t Batch [100][550]\t Training Loss 0.0927\t Accuracy 0.9762\n",
      "Epoch [9][20]\t Batch [150][550]\t Training Loss 0.0939\t Accuracy 0.9748\n",
      "Epoch [9][20]\t Batch [200][550]\t Training Loss 0.0941\t Accuracy 0.9748\n",
      "Epoch [9][20]\t Batch [250][550]\t Training Loss 0.0919\t Accuracy 0.9758\n",
      "Epoch [9][20]\t Batch [300][550]\t Training Loss 0.0921\t Accuracy 0.9752\n",
      "Epoch [9][20]\t Batch [350][550]\t Training Loss 0.0936\t Accuracy 0.9746\n",
      "Epoch [9][20]\t Batch [400][550]\t Training Loss 0.0934\t Accuracy 0.9747\n",
      "Epoch [9][20]\t Batch [450][550]\t Training Loss 0.0924\t Accuracy 0.9748\n",
      "Epoch [9][20]\t Batch [500][550]\t Training Loss 0.0916\t Accuracy 0.9750\n",
      "Epoch [9]\t Average training loss 0.0914\t Average training accuracy 0.9751\n",
      "Epoch [9]\t Average validation loss 0.0971\t Average validation accuracy 0.9722\n",
      "\n",
      "Epoch [10][20]\t Batch [0][550]\t Training Loss 0.1585\t Accuracy 0.9700\n",
      "Epoch [10][20]\t Batch [50][550]\t Training Loss 0.0896\t Accuracy 0.9753\n",
      "Epoch [10][20]\t Batch [100][550]\t Training Loss 0.0881\t Accuracy 0.9766\n",
      "Epoch [10][20]\t Batch [150][550]\t Training Loss 0.0857\t Accuracy 0.9777\n",
      "Epoch [10][20]\t Batch [200][550]\t Training Loss 0.0843\t Accuracy 0.9776\n",
      "Epoch [10][20]\t Batch [250][550]\t Training Loss 0.0847\t Accuracy 0.9773\n",
      "Epoch [10][20]\t Batch [300][550]\t Training Loss 0.0843\t Accuracy 0.9776\n",
      "Epoch [10][20]\t Batch [350][550]\t Training Loss 0.0847\t Accuracy 0.9772\n",
      "Epoch [10][20]\t Batch [400][550]\t Training Loss 0.0843\t Accuracy 0.9773\n",
      "Epoch [10][20]\t Batch [450][550]\t Training Loss 0.0838\t Accuracy 0.9773\n",
      "Epoch [10][20]\t Batch [500][550]\t Training Loss 0.0839\t Accuracy 0.9771\n",
      "Epoch [10]\t Average training loss 0.0839\t Average training accuracy 0.9772\n",
      "Epoch [10]\t Average validation loss 0.0908\t Average validation accuracy 0.9744\n",
      "\n",
      "Epoch [11][20]\t Batch [0][550]\t Training Loss 0.0429\t Accuracy 0.9900\n",
      "Epoch [11][20]\t Batch [50][550]\t Training Loss 0.0769\t Accuracy 0.9808\n",
      "Epoch [11][20]\t Batch [100][550]\t Training Loss 0.0768\t Accuracy 0.9810\n",
      "Epoch [11][20]\t Batch [150][550]\t Training Loss 0.0775\t Accuracy 0.9800\n",
      "Epoch [11][20]\t Batch [200][550]\t Training Loss 0.0758\t Accuracy 0.9801\n",
      "Epoch [11][20]\t Batch [250][550]\t Training Loss 0.0758\t Accuracy 0.9793\n",
      "Epoch [11][20]\t Batch [300][550]\t Training Loss 0.0746\t Accuracy 0.9799\n",
      "Epoch [11][20]\t Batch [350][550]\t Training Loss 0.0745\t Accuracy 0.9797\n",
      "Epoch [11][20]\t Batch [400][550]\t Training Loss 0.0761\t Accuracy 0.9796\n",
      "Epoch [11][20]\t Batch [450][550]\t Training Loss 0.0767\t Accuracy 0.9794\n",
      "Epoch [11][20]\t Batch [500][550]\t Training Loss 0.0762\t Accuracy 0.9795\n",
      "Epoch [11]\t Average training loss 0.0768\t Average training accuracy 0.9794\n",
      "Epoch [11]\t Average validation loss 0.0869\t Average validation accuracy 0.9748\n",
      "\n",
      "Epoch [12][20]\t Batch [0][550]\t Training Loss 0.0784\t Accuracy 0.9700\n",
      "Epoch [12][20]\t Batch [50][550]\t Training Loss 0.0679\t Accuracy 0.9827\n",
      "Epoch [12][20]\t Batch [100][550]\t Training Loss 0.0692\t Accuracy 0.9811\n",
      "Epoch [12][20]\t Batch [150][550]\t Training Loss 0.0714\t Accuracy 0.9807\n",
      "Epoch [12][20]\t Batch [200][550]\t Training Loss 0.0716\t Accuracy 0.9810\n",
      "Epoch [12][20]\t Batch [250][550]\t Training Loss 0.0719\t Accuracy 0.9804\n",
      "Epoch [12][20]\t Batch [300][550]\t Training Loss 0.0711\t Accuracy 0.9809\n",
      "Epoch [12][20]\t Batch [350][550]\t Training Loss 0.0705\t Accuracy 0.9810\n",
      "Epoch [12][20]\t Batch [400][550]\t Training Loss 0.0711\t Accuracy 0.9810\n",
      "Epoch [12][20]\t Batch [450][550]\t Training Loss 0.0706\t Accuracy 0.9811\n",
      "Epoch [12][20]\t Batch [500][550]\t Training Loss 0.0707\t Accuracy 0.9811\n",
      "Epoch [12]\t Average training loss 0.0706\t Average training accuracy 0.9812\n",
      "Epoch [12]\t Average validation loss 0.0827\t Average validation accuracy 0.9766\n",
      "\n",
      "Epoch [13][20]\t Batch [0][550]\t Training Loss 0.0668\t Accuracy 0.9900\n",
      "Epoch [13][20]\t Batch [50][550]\t Training Loss 0.0690\t Accuracy 0.9822\n",
      "Epoch [13][20]\t Batch [100][550]\t Training Loss 0.0664\t Accuracy 0.9823\n",
      "Epoch [13][20]\t Batch [150][550]\t Training Loss 0.0651\t Accuracy 0.9826\n",
      "Epoch [13][20]\t Batch [200][550]\t Training Loss 0.0647\t Accuracy 0.9826\n",
      "Epoch [13][20]\t Batch [250][550]\t Training Loss 0.0656\t Accuracy 0.9821\n",
      "Epoch [13][20]\t Batch [300][550]\t Training Loss 0.0652\t Accuracy 0.9819\n",
      "Epoch [13][20]\t Batch [350][550]\t Training Loss 0.0642\t Accuracy 0.9824\n",
      "Epoch [13][20]\t Batch [400][550]\t Training Loss 0.0656\t Accuracy 0.9818\n",
      "Epoch [13][20]\t Batch [450][550]\t Training Loss 0.0664\t Accuracy 0.9818\n",
      "Epoch [13][20]\t Batch [500][550]\t Training Loss 0.0662\t Accuracy 0.9818\n",
      "Epoch [13]\t Average training loss 0.0656\t Average training accuracy 0.9821\n",
      "Epoch [13]\t Average validation loss 0.0802\t Average validation accuracy 0.9762\n",
      "\n",
      "Epoch [14][20]\t Batch [0][550]\t Training Loss 0.0745\t Accuracy 0.9600\n",
      "Epoch [14][20]\t Batch [50][550]\t Training Loss 0.0566\t Accuracy 0.9859\n",
      "Epoch [14][20]\t Batch [100][550]\t Training Loss 0.0577\t Accuracy 0.9849\n",
      "Epoch [14][20]\t Batch [150][550]\t Training Loss 0.0597\t Accuracy 0.9844\n",
      "Epoch [14][20]\t Batch [200][550]\t Training Loss 0.0624\t Accuracy 0.9837\n",
      "Epoch [14][20]\t Batch [250][550]\t Training Loss 0.0630\t Accuracy 0.9834\n",
      "Epoch [14][20]\t Batch [300][550]\t Training Loss 0.0621\t Accuracy 0.9836\n",
      "Epoch [14][20]\t Batch [350][550]\t Training Loss 0.0616\t Accuracy 0.9837\n",
      "Epoch [14][20]\t Batch [400][550]\t Training Loss 0.0617\t Accuracy 0.9835\n",
      "Epoch [14][20]\t Batch [450][550]\t Training Loss 0.0614\t Accuracy 0.9834\n",
      "Epoch [14][20]\t Batch [500][550]\t Training Loss 0.0615\t Accuracy 0.9834\n",
      "Epoch [14]\t Average training loss 0.0609\t Average training accuracy 0.9836\n",
      "Epoch [14]\t Average validation loss 0.0774\t Average validation accuracy 0.9776\n",
      "\n",
      "Epoch [15][20]\t Batch [0][550]\t Training Loss 0.0582\t Accuracy 0.9700\n",
      "Epoch [15][20]\t Batch [50][550]\t Training Loss 0.0547\t Accuracy 0.9869\n",
      "Epoch [15][20]\t Batch [100][550]\t Training Loss 0.0549\t Accuracy 0.9859\n",
      "Epoch [15][20]\t Batch [150][550]\t Training Loss 0.0557\t Accuracy 0.9855\n",
      "Epoch [15][20]\t Batch [200][550]\t Training Loss 0.0570\t Accuracy 0.9848\n",
      "Epoch [15][20]\t Batch [250][550]\t Training Loss 0.0577\t Accuracy 0.9848\n",
      "Epoch [15][20]\t Batch [300][550]\t Training Loss 0.0565\t Accuracy 0.9851\n",
      "Epoch [15][20]\t Batch [350][550]\t Training Loss 0.0568\t Accuracy 0.9848\n",
      "Epoch [15][20]\t Batch [400][550]\t Training Loss 0.0566\t Accuracy 0.9848\n",
      "Epoch [15][20]\t Batch [450][550]\t Training Loss 0.0563\t Accuracy 0.9850\n",
      "Epoch [15][20]\t Batch [500][550]\t Training Loss 0.0565\t Accuracy 0.9849\n",
      "Epoch [15]\t Average training loss 0.0568\t Average training accuracy 0.9848\n",
      "Epoch [15]\t Average validation loss 0.0736\t Average validation accuracy 0.9786\n",
      "\n",
      "Epoch [16][20]\t Batch [0][550]\t Training Loss 0.0365\t Accuracy 0.9900\n",
      "Epoch [16][20]\t Batch [50][550]\t Training Loss 0.0541\t Accuracy 0.9837\n",
      "Epoch [16][20]\t Batch [100][550]\t Training Loss 0.0522\t Accuracy 0.9851\n",
      "Epoch [16][20]\t Batch [150][550]\t Training Loss 0.0518\t Accuracy 0.9859\n",
      "Epoch [16][20]\t Batch [200][550]\t Training Loss 0.0517\t Accuracy 0.9864\n",
      "Epoch [16][20]\t Batch [250][550]\t Training Loss 0.0531\t Accuracy 0.9859\n",
      "Epoch [16][20]\t Batch [300][550]\t Training Loss 0.0527\t Accuracy 0.9862\n",
      "Epoch [16][20]\t Batch [350][550]\t Training Loss 0.0532\t Accuracy 0.9862\n",
      "Epoch [16][20]\t Batch [400][550]\t Training Loss 0.0531\t Accuracy 0.9861\n",
      "Epoch [16][20]\t Batch [450][550]\t Training Loss 0.0529\t Accuracy 0.9862\n",
      "Epoch [16][20]\t Batch [500][550]\t Training Loss 0.0532\t Accuracy 0.9862\n",
      "Epoch [16]\t Average training loss 0.0530\t Average training accuracy 0.9864\n",
      "Epoch [16]\t Average validation loss 0.0734\t Average validation accuracy 0.9780\n",
      "\n",
      "Epoch [17][20]\t Batch [0][550]\t Training Loss 0.0158\t Accuracy 1.0000\n",
      "Epoch [17][20]\t Batch [50][550]\t Training Loss 0.0482\t Accuracy 0.9878\n",
      "Epoch [17][20]\t Batch [100][550]\t Training Loss 0.0493\t Accuracy 0.9872\n",
      "Epoch [17][20]\t Batch [150][550]\t Training Loss 0.0486\t Accuracy 0.9868\n",
      "Epoch [17][20]\t Batch [200][550]\t Training Loss 0.0495\t Accuracy 0.9867\n",
      "Epoch [17][20]\t Batch [250][550]\t Training Loss 0.0492\t Accuracy 0.9868\n",
      "Epoch [17][20]\t Batch [300][550]\t Training Loss 0.0499\t Accuracy 0.9866\n"
     ]
    },
    {
     "name": "stdout",
     "output_type": "stream",
     "text": [
      "Epoch [17][20]\t Batch [350][550]\t Training Loss 0.0506\t Accuracy 0.9867\n",
      "Epoch [17][20]\t Batch [400][550]\t Training Loss 0.0510\t Accuracy 0.9867\n",
      "Epoch [17][20]\t Batch [450][550]\t Training Loss 0.0504\t Accuracy 0.9869\n",
      "Epoch [17][20]\t Batch [500][550]\t Training Loss 0.0502\t Accuracy 0.9868\n",
      "Epoch [17]\t Average training loss 0.0497\t Average training accuracy 0.9869\n",
      "Epoch [17]\t Average validation loss 0.0694\t Average validation accuracy 0.9800\n",
      "\n",
      "Epoch [18][20]\t Batch [0][550]\t Training Loss 0.0384\t Accuracy 0.9900\n",
      "Epoch [18][20]\t Batch [50][550]\t Training Loss 0.0502\t Accuracy 0.9871\n",
      "Epoch [18][20]\t Batch [100][550]\t Training Loss 0.0458\t Accuracy 0.9878\n",
      "Epoch [18][20]\t Batch [150][550]\t Training Loss 0.0459\t Accuracy 0.9885\n",
      "Epoch [18][20]\t Batch [200][550]\t Training Loss 0.0453\t Accuracy 0.9889\n",
      "Epoch [18][20]\t Batch [250][550]\t Training Loss 0.0450\t Accuracy 0.9888\n",
      "Epoch [18][20]\t Batch [300][550]\t Training Loss 0.0456\t Accuracy 0.9885\n",
      "Epoch [18][20]\t Batch [350][550]\t Training Loss 0.0458\t Accuracy 0.9885\n",
      "Epoch [18][20]\t Batch [400][550]\t Training Loss 0.0464\t Accuracy 0.9884\n",
      "Epoch [18][20]\t Batch [450][550]\t Training Loss 0.0461\t Accuracy 0.9884\n",
      "Epoch [18][20]\t Batch [500][550]\t Training Loss 0.0458\t Accuracy 0.9886\n",
      "Epoch [18]\t Average training loss 0.0463\t Average training accuracy 0.9884\n",
      "Epoch [18]\t Average validation loss 0.0690\t Average validation accuracy 0.9802\n",
      "\n",
      "Epoch [19][20]\t Batch [0][550]\t Training Loss 0.1016\t Accuracy 0.9800\n",
      "Epoch [19][20]\t Batch [50][550]\t Training Loss 0.0427\t Accuracy 0.9896\n",
      "Epoch [19][20]\t Batch [100][550]\t Training Loss 0.0422\t Accuracy 0.9896\n",
      "Epoch [19][20]\t Batch [150][550]\t Training Loss 0.0435\t Accuracy 0.9895\n",
      "Epoch [19][20]\t Batch [200][550]\t Training Loss 0.0442\t Accuracy 0.9890\n",
      "Epoch [19][20]\t Batch [250][550]\t Training Loss 0.0434\t Accuracy 0.9888\n",
      "Epoch [19][20]\t Batch [300][550]\t Training Loss 0.0429\t Accuracy 0.9888\n",
      "Epoch [19][20]\t Batch [350][550]\t Training Loss 0.0432\t Accuracy 0.9890\n",
      "Epoch [19][20]\t Batch [400][550]\t Training Loss 0.0432\t Accuracy 0.9890\n",
      "Epoch [19][20]\t Batch [450][550]\t Training Loss 0.0432\t Accuracy 0.9891\n",
      "Epoch [19][20]\t Batch [500][550]\t Training Loss 0.0435\t Accuracy 0.9890\n",
      "Epoch [19]\t Average training loss 0.0437\t Average training accuracy 0.9889\n",
      "Epoch [19]\t Average validation loss 0.0673\t Average validation accuracy 0.9800\n",
      "\n"
     ]
    }
   ],
   "source": [
    "model, loss, acc = train(model, criterion, optimizer, mnist, max_epoch, batch_size, disp_freq)"
   ]
  },
  {
   "cell_type": "markdown",
   "metadata": {},
   "source": [
    "### Plot curves"
   ]
  },
  {
   "cell_type": "code",
   "execution_count": 9,
   "metadata": {
    "scrolled": false
   },
   "outputs": [
    {
     "data": {
      "image/png": "[encoded data removed]",
      "text/plain": [
       "<Figure size 432x288 with 1 Axes>"
      ]
     },
     "metadata": {},
     "output_type": "display_data"
    },
    {
     "data": {
      "image/png": "[encoded data removed]",
      "text/plain": [
       "<Figure size 432x288 with 1 Axes>"
      ]
     },
     "metadata": {},
     "output_type": "display_data"
    }
   ],
   "source": [
    "plot_loss_and_acc({'BuiltIn': [loss, acc]})"
   ]
  },
  {
   "cell_type": "markdown",
   "metadata": {},
   "source": [
    "### Test model"
   ]
  },
  {
   "cell_type": "code",
   "execution_count": 10,
   "metadata": {},
   "outputs": [
    {
     "name": "stdout",
     "output_type": "stream",
     "text": [
      "Testing\n",
      "Batch [0][100]\t Accuracy 1.0000\n",
      "Batch [50][100]\t Accuracy 0.9704\n",
      "The test accuracy is 0.9780.\n",
      "\n"
     ]
    }
   ],
   "source": [
    "test(model, criterion, mnist, batch_size, disp_freq)"
   ]
  },
  {
   "cell_type": "code",
   "execution_count": null,
   "metadata": {},
   "outputs": [],
   "source": []
  }
 ],
 "metadata": {
  "anaconda-cloud": {},
  "kernelspec": {
   "display_name": "Python 2",
   "language": "python",
   "name": "python2"
  },
  "language_info": {
   "codemirror_mode": {
    "name": "ipython",
    "version": 2
   },
   "file_extension": ".py",
   "mimetype": "text/x-python",
   "name": "python",
   "nbconvert_exporter": "python",
   "pygments_lexer": "ipython2",
   "version": "2.7.15"
  },
  "widgets": {
   "state": {},
   "version": "1.1.2"
  }
 },
 "nbformat": 4,
 "nbformat_minor": 1
}
